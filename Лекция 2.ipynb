{
 "cells": [
  {
   "cell_type": "markdown",
   "id": "89949032",
   "metadata": {},
   "source": [
    "# Интегрирование в системах компьютерной алгебры: \n",
    "## от реализации классических алгоритмов XIX века к новым геометрическим интеграторам \n",
    "\n",
    "Малых М.Д. (https://orcid.org/0000-0001-6541-6603)\n",
    "\n",
    "Кафедра математического моделирования и искусственного интеллекта РУДН\n",
    "\n",
    "URL: https://esystem.rudn.ru/faculty/ffmien/departments/kafedra-informacionnyh-tehnologii-5d56957fdac0c\n",
    "\n",
    "Февраль 2025 г.\n",
    "\n",
    "Вторая лекция посвящена исследованию символьных выражений, здесь рассмотрены различные символьные интеграторы, от самых первых Слегля и Мозеса до современных. \n",
    "\n",
    "## Лекция 2. Интегрирование элементарных функций\n",
    "\n",
    "### Системы для символьных вычислений\n",
    "\n",
    "В конце 1950-х годов в целях демонстарции возможностей компьютера по части мышления была предпринята попытка создания программы, которая вычисляла бы интегралы в символьном виде на уровне студента первого курса. Руководитель --- Марвин Минский.\n",
    "\n",
    "Ссылки:\n",
    "* Slagle J.R. A heuristic program that solve symbolic integration problem in freshman calculus, SAINT. MIT, 1961\n",
    "* Moses J. Symbolic integration. MIT, 1967\n",
    "* Moses J. Symbolic Integration: The Stormy Decade // Communications of the ACM. August 1971. Volume 14. Number 8\n",
    "\n",
    "### Элементарные функции\n",
    "\n",
    "Само определение элементарной функции в некотором смысле рекурсия. Элементарная функция -- это:\n",
    "* число,\n",
    "* буква (переменная),\n",
    "* одна или несколько элементарных функций, связанных операцией зи списка элементарных операций.\n",
    "Важна гипотеза о конечности числа операций, входящих в элементанную функцию.  \n",
    "\n",
    "Элементарная функция --- черный ящик, про который мы знаем только две вещи:\n",
    "* последнуюю операцию из списка элементарных операций\n",
    "* операнды последней опеарции\n",
    "\n",
    "Алгоритм дифференцирования и простейшие алгоритмы интегрирования --- рекурсии, использующие только две вспомогательные функции --- operator и operands. "
   ]
  },
  {
   "cell_type": "code",
   "execution_count": 3,
   "id": "19ba82a1",
   "metadata": {},
   "outputs": [
    {
     "data": {
      "text/plain": [
       "<function add_vararg at 0x7fbfdb3c18a0>"
      ]
     },
     "execution_count": 3,
     "metadata": {},
     "output_type": "execute_result"
    }
   ],
   "source": [
    "var('x')\n",
    "(1+sin(x)).operator()"
   ]
  },
  {
   "cell_type": "code",
   "execution_count": 4,
   "id": "1e048550",
   "metadata": {},
   "outputs": [
    {
     "data": {
      "text/plain": [
       "[sin(x), 1]"
      ]
     },
     "execution_count": 4,
     "metadata": {},
     "output_type": "execute_result"
    }
   ],
   "source": [
    "(1+sin(x)).operands()"
   ]
  },
  {
   "cell_type": "markdown",
   "id": "0539fd47",
   "metadata": {},
   "source": [
    "Некоторые операции применяются к списку операндов, который имеет любую длину; некоторые -- к списку длины 2, некоторые к списку из 1 операнда.  "
   ]
  },
  {
   "cell_type": "code",
   "execution_count": 5,
   "id": "10d2b32a",
   "metadata": {},
   "outputs": [
    {
     "data": {
      "text/plain": [
       "[cos(x), sin(x), 2]"
      ]
     },
     "execution_count": 5,
     "metadata": {},
     "output_type": "execute_result"
    }
   ],
   "source": [
    "(2*sin(x)*cos(x)).operands()"
   ]
  },
  {
   "cell_type": "code",
   "execution_count": 6,
   "id": "7e20a630",
   "metadata": {},
   "outputs": [
    {
     "data": {
      "text/plain": [
       "[x^2 + sin(x)]"
      ]
     },
     "execution_count": 6,
     "metadata": {},
     "output_type": "execute_result"
    }
   ],
   "source": [
    "(cos(sin(x)+x^2)).operands()"
   ]
  },
  {
   "cell_type": "markdown",
   "id": "c4390144",
   "metadata": {},
   "source": [
    "Вычитание в Sage нет, есть умножение на -1."
   ]
  },
  {
   "cell_type": "code",
   "execution_count": 7,
   "id": "23fa4189",
   "metadata": {},
   "outputs": [
    {
     "data": {
      "text/plain": [
       "<function add_vararg at 0x7fbfdb3c18a0>"
      ]
     },
     "execution_count": 7,
     "metadata": {},
     "output_type": "execute_result"
    }
   ],
   "source": [
    "(2-sin(x)).operator()"
   ]
  },
  {
   "cell_type": "code",
   "execution_count": 8,
   "id": "ebdefc30",
   "metadata": {},
   "outputs": [
    {
     "data": {
      "text/plain": [
       "[-sin(x), 2]"
      ]
     },
     "execution_count": 8,
     "metadata": {},
     "output_type": "execute_result"
    }
   ],
   "source": [
    "(2-sin(x)).operands()"
   ]
  },
  {
   "cell_type": "markdown",
   "id": "fb7e949e",
   "metadata": {},
   "source": [
    "Но есть возведение в степень"
   ]
  },
  {
   "cell_type": "code",
   "execution_count": 9,
   "id": "b26be41b",
   "metadata": {},
   "outputs": [
    {
     "data": {
      "text/plain": [
       "<built-in function pow>"
      ]
     },
     "execution_count": 9,
     "metadata": {},
     "output_type": "execute_result"
    }
   ],
   "source": [
    "(x^x).operator()"
   ]
  },
  {
   "cell_type": "code",
   "execution_count": 10,
   "id": "c3733f46",
   "metadata": {},
   "outputs": [
    {
     "data": {
      "text/plain": [
       "[x, x]"
      ]
     },
     "execution_count": 10,
     "metadata": {},
     "output_type": "execute_result"
    }
   ],
   "source": [
    "(x^x).operands()"
   ]
  },
  {
   "cell_type": "markdown",
   "id": "4c1b18cf",
   "metadata": {},
   "source": [
    "Многие числа рассматриваются как составные выражения:"
   ]
  },
  {
   "cell_type": "code",
   "execution_count": 11,
   "id": "f44c62d6",
   "metadata": {},
   "outputs": [
    {
     "data": {
      "text/plain": [
       "[2, 1/2]"
      ]
     },
     "execution_count": 11,
     "metadata": {},
     "output_type": "execute_result"
    }
   ],
   "source": [
    "sqrt(2).operands()"
   ]
  },
  {
   "cell_type": "markdown",
   "id": "ae4702fb",
   "metadata": {},
   "source": [
    "Список встроенных названий операций:"
   ]
  },
  {
   "cell_type": "code",
   "execution_count": 12,
   "id": "0b0b41bb",
   "metadata": {},
   "outputs": [],
   "source": [
    "def names_of_operators():\n",
    "    D={}\n",
    "    D['+']=(1+x).operator()\n",
    "    D['*']=(2*x).operator()\n",
    "    D['/']=(2/x).operator()\n",
    "    D['^']=(2^x).operator()\n",
    "    D['ln']=(ln(x)).operator()\n",
    "    D['exp']=(exp(x)).operator()\n",
    "    return D\n"
   ]
  },
  {
   "cell_type": "code",
   "execution_count": 13,
   "id": "7b0a9fb0",
   "metadata": {},
   "outputs": [
    {
     "data": {
      "text/plain": [
       "<function add_vararg at 0x7fbfdb3c18a0>"
      ]
     },
     "execution_count": 13,
     "metadata": {},
     "output_type": "execute_result"
    }
   ],
   "source": [
    "names_of_operators()['+']"
   ]
  },
  {
   "cell_type": "markdown",
   "id": "480ec01a",
   "metadata": {},
   "source": [
    "### Дифференцирование"
   ]
  },
  {
   "cell_type": "markdown",
   "id": "4a067fd7",
   "metadata": {},
   "source": [
    "Правила дифференцирования. Пусть $u,v$ --- элементарные выражения, тогда \n",
    "1) $$\n",
    "\\quad d(u+v+\\dots)=du+dv+\\dots;\n",
    "$$\n",
    "2) $$\n",
    "\\quad d(uv\\dots)=(v\\dots)du+(u\\dots)dv+\\dots;\n",
    "$$\n",
    "3) $$\n",
    "\\quad d\\frac{u}{v}=\\frac{vdu-udv}{v^2};\n",
    "$$\n",
    "4) $$\n",
    "\\quad d(u^v)=de^{v \\ln u}=vu^{v-1}du+u^v\\ln(u) dv;\n",
    "$$\n",
    "5) $$\n",
    "\\quad d\\ln u= \\frac{du}{u};\n",
    "$$\n",
    "6) $$\n",
    "\\quad d\\exp u= \\exp u \\cdot du.\n",
    "$$"
   ]
  },
  {
   "cell_type": "code",
   "execution_count": 14,
   "id": "7ace4283",
   "metadata": {},
   "outputs": [],
   "source": [
    "def mdiff(f,x):\n",
    "    D=names_of_operators()\n",
    "    if f==x:\n",
    "        return 1\n",
    "    elif f.operator()==D['+']:\n",
    "        return sum([mdiff(g,x) for g in f.operands()])\n",
    "    elif f.operator()==D['*']:\n",
    "        P=f.operands()\n",
    "        return sum([mdiff(p,x)*prod(P)/p for p in P])\n",
    "    elif f.operator()==D['/']:\n",
    "        [u,v]=f.operands()\n",
    "        return (mdiff(u,x)*v- mdiff(v,x)*u)/v^2\n",
    "    elif f.operator()==D['^']:\n",
    "        [u,v]=f.operands()\n",
    "        return v*u^(v-1)*mdiff(u,x)+ u^v*mdiff(v,x)*ln(u)\n",
    "    elif f.operator()==D['ln']:\n",
    "        [u]=f.operands()\n",
    "        return mdiff(u,x)/u\n",
    "    elif f.operator()==D['exp']:\n",
    "        [u]=f.operands()\n",
    "        return f*mdiff(u,x)\n",
    "    else:\n",
    "        return 0"
   ]
  },
  {
   "cell_type": "code",
   "execution_count": 15,
   "id": "58db4358",
   "metadata": {},
   "outputs": [
    {
     "data": {
      "text/plain": [
       "(x*log(2) + 1)*2^x*log(x) + 2^x"
      ]
     },
     "execution_count": 15,
     "metadata": {},
     "output_type": "execute_result"
    }
   ],
   "source": [
    "var(\"x,y\")\n",
    "mdiff(2^x*x*ln(x),x).full_simplify()"
   ]
  },
  {
   "cell_type": "code",
   "execution_count": 16,
   "id": "3281f04a",
   "metadata": {},
   "outputs": [
    {
     "data": {
      "text/plain": [
       "(x*log(2) + 1)*2^x*log(x) + 2^x"
      ]
     },
     "execution_count": 16,
     "metadata": {},
     "output_type": "execute_result"
    }
   ],
   "source": [
    "diff(2^x*x*ln(x),x).full_simplify()"
   ]
  },
  {
   "cell_type": "markdown",
   "id": "f0fd8dee",
   "metadata": {},
   "source": [
    "Теорема. Производная любого элементарного выражения является элементарным выражением, которое может быть найдено по указанному выше алгоритму за конечное число шагов. "
   ]
  },
  {
   "cell_type": "markdown",
   "id": "7d9c33cb",
   "metadata": {},
   "source": [
    "### Итегрирование\n",
    "\n",
    "Слегль: интегрирование --- это стратегия, будут ветви и нужно вовремя отпиливать плохие ветки.\n",
    "\n",
    "#### Опыты с таблицей интегралов\n",
    "\n",
    "Чтобы проинтегрировать выражение по таблице интегралов, нужно сравнить его с эталонным выражением и, в случае успеха, написать ответ. Сравнение --- это аналог поиска по шаблону или регулярному выражению. В Sage он реализован в виде метода match. Допустим, что нам нужно опознать выражение вида $cx^a$. "
   ]
  },
  {
   "cell_type": "code",
   "execution_count": 23,
   "id": "2f1792ab",
   "metadata": {},
   "outputs": [],
   "source": [
    "var('x,y')\n",
    "a = SR.wild(0) \n",
    "c = SR.wild(1)\n",
    "D = (2/x).match(c*x^a)"
   ]
  },
  {
   "cell_type": "code",
   "execution_count": 24,
   "id": "cdc47d60",
   "metadata": {},
   "outputs": [
    {
     "data": {
      "text/plain": [
       "{$1: 2, $0: -1}"
      ]
     },
     "execution_count": 24,
     "metadata": {},
     "output_type": "execute_result"
    }
   ],
   "source": [
    "D"
   ]
  },
  {
   "cell_type": "code",
   "execution_count": 25,
   "id": "38f3ec74",
   "metadata": {},
   "outputs": [
    {
     "data": {
      "text/plain": [
       "2"
      ]
     },
     "execution_count": 25,
     "metadata": {},
     "output_type": "execute_result"
    }
   ],
   "source": [
    "D[c]"
   ]
  },
  {
   "cell_type": "code",
   "execution_count": 26,
   "id": "c4e51405",
   "metadata": {},
   "outputs": [
    {
     "data": {
      "text/plain": [
       "{$1: 2*x + 2*y, $0: -1}"
      ]
     },
     "execution_count": 26,
     "metadata": {},
     "output_type": "execute_result"
    }
   ],
   "source": [
    "(2*(x+y)/x).match(c*x^a)"
   ]
  },
  {
   "cell_type": "markdown",
   "id": "3ab6f7c3",
   "metadata": {},
   "source": [
    "Начнем реализацию нашей таблицы интегралов с интегрирования степеней\n",
    "$$\n",
    "\\int cx^a dx = \n",
    "\\begin{cases}\n",
    "\\frac{с x^{a+1}}{a+1}, & a\\not =-1\\\\\n",
    "\\ln |x|, & a=-1.\n",
    "\\end{cases}\n",
    "$$\n",
    "Вообще говоря, match справляется с задачей определения такого вида выражений. Однако match не подхватывает выражения, в которых константы равны 0 или 1. По этой причине особыми случаями для нас будут $a=0$, $a=1$ и $c=1$. "
   ]
  },
  {
   "cell_type": "code",
   "execution_count": 27,
   "id": "7f5fe60c",
   "metadata": {},
   "outputs": [],
   "source": [
    "def itable(f,x):\n",
    "    if diff(f,x)==0:\n",
    "        return f*x\n",
    "    c=f/x\n",
    "    if diff(c,x)==0:\n",
    "        return c*x^2/2\n",
    "    c = SR.wild(0)\n",
    "    a = SR.wild(1) \n",
    "#1 and 2.) f=c*x^n\n",
    "    g=x^a\n",
    "    D=f.match(x^a)\n",
    "    if D is not None and diff(D[a],x)==0:\n",
    "        if D[a]==-1:\n",
    "            return ln(abs(x))\n",
    "        else:\n",
    "            return 1/(D[a]+1)*x^(D[a]+1)\n",
    "    D=f.match(c*g)\n",
    "    if D is not None and diff(D[c],x)==0:\n",
    "        return D[c]*itable(f/D[c],x)\n",
    "#3.) f=c*a^x\n",
    "    g=a^x\n",
    "    D=f.match(g)\n",
    "    if D is not None and diff(D[a],x)==0 and D[a]>0:\n",
    "        return D[a]^x/ln(D[a])\n",
    "    D=f.match(c*g)\n",
    "    if D is not None and diff(D[c],x)==0:\n",
    "        return D[c]*itable(f/D[c],x)\n",
    "#4.) f=b*exp(x)\n",
    "    b=f/exp(x)\n",
    "    if diff(b,x)==0 :\n",
    "        return b*exp(x)\n",
    "#15. and 16.) f=c/(x^2+a)\n",
    "    g=1/(x^2+a)\n",
    "    D=f.match(g)\n",
    "    if D is not None:\n",
    "        if D[a]>0:\n",
    "            return arctan(x/sqrt(D[a]))\n",
    "        elif D[a]<0:\n",
    "            return 1/2/sqrt(-D[a])*log((x - sqrt(-D[a]))/(x+sqrt(-D[a])))\n",
    "    D=f.match(c*g)\n",
    "    if D is not None and diff(D[c],x)==0:\n",
    "        return D[c]*itable(f/D[c],x)\n",
    "#16.1) f=c/(x^2-a)\n",
    "    g=1/(x^2-a)\n",
    "    D=f.match(g)\n",
    "    if D is not None:\n",
    "        if D[a]<0:\n",
    "            return arctan(x/sqrt(-D[a]))\n",
    "        elif D[a]>0:\n",
    "            return 1/2/sqrt(D[a])*log((x - sqrt(D[a]))/(x+sqrt(D[a])))\n",
    "    D=f.match(c*g)\n",
    "    if D is not None and diff(D[c],x)==0:\n",
    "        return D[c]*itable(f/D[c],x)\n",
    "#16.2) f=c/(a-x^2)\n",
    "    g=1/(a-x^2)\n",
    "    D=f.match(g)\n",
    "    if D is not None:\n",
    "        return -itable(1/(x^2-D[a]),x)\n",
    "    D=f.match(c*g)\n",
    "    if D is not None and diff(D[c],x)==0:\n",
    "        return D[c]*itable(f/D[c],x)"
   ]
  },
  {
   "cell_type": "markdown",
   "id": "99bcfdb1",
   "metadata": {},
   "source": [
    "Примеры"
   ]
  },
  {
   "cell_type": "code",
   "execution_count": 28,
   "id": "64f52b64",
   "metadata": {},
   "outputs": [
    {
     "data": {
      "text/plain": [
       "2*log(abs(x))"
      ]
     },
     "execution_count": 28,
     "metadata": {},
     "output_type": "execute_result"
    }
   ],
   "source": [
    "itable(2/x,x)"
   ]
  },
  {
   "cell_type": "code",
   "execution_count": 29,
   "id": "3057db8e",
   "metadata": {},
   "outputs": [
    {
     "data": {
      "text/plain": [
       "pi*x"
      ]
     },
     "execution_count": 29,
     "metadata": {},
     "output_type": "execute_result"
    }
   ],
   "source": [
    "itable(pi,x)"
   ]
  },
  {
   "cell_type": "code",
   "execution_count": 30,
   "id": "167b3ade",
   "metadata": {},
   "outputs": [
    {
     "data": {
      "text/plain": [
       "2/3*x^3"
      ]
     },
     "execution_count": 30,
     "metadata": {},
     "output_type": "execute_result"
    }
   ],
   "source": [
    "itable(2*x^2,x)"
   ]
  },
  {
   "cell_type": "code",
   "execution_count": 31,
   "id": "d77ac461",
   "metadata": {},
   "outputs": [
    {
     "data": {
      "text/plain": [
       "2*log(abs(y))"
      ]
     },
     "execution_count": 31,
     "metadata": {},
     "output_type": "execute_result"
    }
   ],
   "source": [
    "itable(2/y,y)"
   ]
  },
  {
   "cell_type": "code",
   "execution_count": 32,
   "id": "22376568",
   "metadata": {},
   "outputs": [
    {
     "data": {
      "text/plain": [
       "-2*y/x"
      ]
     },
     "execution_count": 32,
     "metadata": {},
     "output_type": "execute_result"
    }
   ],
   "source": [
    "itable(2*y/x^2,x)"
   ]
  },
  {
   "cell_type": "markdown",
   "id": "cdd3d7d3",
   "metadata": {},
   "source": [
    "При реализации 3 и 4 строк таблицы \n",
    "$$\n",
    "\\int ca^x dx = \n",
    "\\begin{cases}\n",
    "\\frac{ca^x}{\\ln a} , & a\\not =e\\\\\n",
    "e^x, & a=e.\n",
    "\\end{cases}\n",
    "$$\n",
    "проявляется еще одна проблема в работе метода match: система воспринимает выражение $e^x$ как $\\exp(x)$ и последняя операция здесь --- взятие экспоненты, а не возведение в степень ^."
   ]
  },
  {
   "cell_type": "code",
   "execution_count": 34,
   "id": "2f7b1205",
   "metadata": {},
   "outputs": [
    {
     "data": {
      "text/plain": [
       "2^x/log(2)"
      ]
     },
     "execution_count": 34,
     "metadata": {},
     "output_type": "execute_result"
    }
   ],
   "source": [
    "itable(2^x,x)"
   ]
  },
  {
   "cell_type": "code",
   "execution_count": 35,
   "id": "4cd7ab82",
   "metadata": {},
   "outputs": [
    {
     "data": {
      "text/plain": [
       "e^x"
      ]
     },
     "execution_count": 35,
     "metadata": {},
     "output_type": "execute_result"
    }
   ],
   "source": [
    "itable(e^x,x)"
   ]
  },
  {
   "cell_type": "markdown",
   "id": "0a8a5a20",
   "metadata": {},
   "source": [
    "П. 15 и 16 таблицы гласят\n",
    "$$\n",
    "\\int \\frac{dx}{x^2+a^2} =\\frac{1}{a} \\arctan \\frac{x}{a}\n",
    "$$\n",
    "$$\n",
    "\\int \\frac{dx}{x^2-a^2} =\\frac{1}{2a} \\ln \\left|\\frac{x-a}{x+a} \\right|\n",
    "$$\n",
    "Мы реализовали формулу\n",
    "$$\n",
    "\\int \\frac{c dx}{x^2+a} = \n",
    "\\begin{cases}\n",
    "\\frac{c}{\\sqrt{a}} \\arctan \\frac{x}{\\sqrt{a}} , & a>0\\\\\n",
    "\\frac{c}{2\\sqrt{-a}} \\ln \\left|\\frac{x-\\sqrt{-a}}{x+\\sqrt{-a}} \\right|, & a<0.\n",
    "\\end{cases}\n",
    "$$\n",
    "В нашу реализацию мы добавили вентиль по знаку $a$. Тут следует подчеркнуть, что система может сравнивать с нулем не только алгебраические числа, но и константы типа $\\pi$ и $e$, а также переменные, относительно знака  которых были сделаны предположения. "
   ]
  },
  {
   "cell_type": "code",
   "execution_count": 37,
   "id": "c3d14bb9",
   "metadata": {},
   "outputs": [
    {
     "data": {
      "text/plain": [
       "arctan(1/5*sqrt(5)*x)"
      ]
     },
     "execution_count": 37,
     "metadata": {},
     "output_type": "execute_result"
    }
   ],
   "source": [
    "itable(1/(x^2+5),x)"
   ]
  },
  {
   "cell_type": "code",
   "execution_count": 38,
   "id": "e9c6ec57",
   "metadata": {},
   "outputs": [
    {
     "data": {
      "text/plain": [
       "-1/3*sqrt(3)*log((x - sqrt(3))/(x + sqrt(3)))"
      ]
     },
     "execution_count": 38,
     "metadata": {},
     "output_type": "execute_result"
    }
   ],
   "source": [
    "itable(-2/(x^2-3),x)"
   ]
  },
  {
   "cell_type": "code",
   "execution_count": 39,
   "id": "9c89e864",
   "metadata": {},
   "outputs": [
    {
     "data": {
      "text/plain": [
       "arctan(x/sqrt(pi))"
      ]
     },
     "execution_count": 39,
     "metadata": {},
     "output_type": "execute_result"
    }
   ],
   "source": [
    "itable(1/(x^2+pi),x)"
   ]
  },
  {
   "cell_type": "code",
   "execution_count": 40,
   "id": "4563a525",
   "metadata": {},
   "outputs": [
    {
     "data": {
      "text/plain": [
       "arctan(x/a)"
      ]
     },
     "execution_count": 40,
     "metadata": {},
     "output_type": "execute_result"
    }
   ],
   "source": [
    "var('a')\n",
    "assume(a>0)\n",
    "itable(1/(x^2+a^2),x)"
   ]
  },
  {
   "cell_type": "markdown",
   "id": "5ac1d2c3",
   "metadata": {},
   "source": [
    "В Sage нет настоящего вычетания, поэтому"
   ]
  },
  {
   "cell_type": "code",
   "execution_count": 41,
   "id": "9751662c",
   "metadata": {},
   "outputs": [],
   "source": [
    "(1/(x^2-pi)).match(1/(x^2+a))"
   ]
  },
  {
   "cell_type": "markdown",
   "id": "7f395540",
   "metadata": {},
   "source": [
    "Мы добавили отдельно ветку с вычетанием"
   ]
  },
  {
   "cell_type": "code",
   "execution_count": 43,
   "id": "cdd5774e",
   "metadata": {},
   "outputs": [
    {
     "data": {
      "text/plain": [
       "-3/4*sqrt(2)*log((x - sqrt(2))/(x + sqrt(2)))"
      ]
     },
     "execution_count": 43,
     "metadata": {},
     "output_type": "execute_result"
    }
   ],
   "source": [
    "itable(3/(2-x^2),x)"
   ]
  },
  {
   "cell_type": "code",
   "execution_count": 44,
   "id": "ac56dd72",
   "metadata": {},
   "outputs": [
    {
     "data": {
      "text/plain": [
       "3/2*log(-(pi - x)/(pi + x))/pi"
      ]
     },
     "execution_count": 44,
     "metadata": {},
     "output_type": "execute_result"
    }
   ],
   "source": [
    "itable(3/(x^2-pi^2),x)"
   ]
  },
  {
   "cell_type": "markdown",
   "id": "49ce9016",
   "metadata": {},
   "source": [
    "#### Интегрирование подстановкой\n",
    "\n",
    "Нам задано подынтегральное выражение в интеграле\n",
    "$$\n",
    "\\int f(x)dx.\n",
    "$$\n",
    "* Посмотрев на $f$, мы выбираем подстановку $g$. Обычно $g$ --- это кусок выражения $f$. \n",
    "* Затем мы решаем уравнение\n",
    "$$\n",
    "u=g(x)\n",
    "$$\n",
    "относительно $x$ и выражаем через $u$\n",
    "$$\n",
    "\\frac{f(x)}{g'(x)}=h(u).\n",
    "$$\n",
    "* Ищем интеграл в таблице или делаем новую подстановку.\n",
    "\n",
    "Выражение $g$ входит в $f$, поэтому как правило дело сводится к тому, чтобы в выражении $h=f/g'$ кусок $g$ заменить на $u$. Sage поддерживает такую замену:"
   ]
  },
  {
   "cell_type": "code",
   "execution_count": 46,
   "id": "c306e01b",
   "metadata": {},
   "outputs": [
    {
     "data": {
      "text/plain": [
       "sin(u)"
      ]
     },
     "execution_count": 46,
     "metadata": {},
     "output_type": "execute_result"
    }
   ],
   "source": [
    "var('u')\n",
    "sin(cos(x)).subs(cos(x)==u)"
   ]
  },
  {
   "cell_type": "code",
   "execution_count": 47,
   "id": "241afeb0",
   "metadata": {},
   "outputs": [],
   "source": [
    "def integrate_by_subs(f,x,G=[]):\n",
    "    F=itable(f,x)\n",
    "    if F is not None:\n",
    "        return F\n",
    "    if G==[]:\n",
    "        G=f.operands()\n",
    "    k=0 # флаг, увеличивается, если есть невырожденные подстановки\n",
    "    for g in G: \n",
    "        if diff(g,x)!=0 and g!=x:\n",
    "            k=k+1\n",
    "            var('_x')\n",
    "            print('==subs.==')\n",
    "            print(_x==g)\n",
    "            h=(f/diff(g,x)).subs(g==_x)\n",
    "            print(h)\n",
    "            if diff(h,x)==0:\n",
    "                H=itable(h,_x)\n",
    "                if H is not None:\n",
    "                    return H.subs(_x==g)\n",
    "    if k==0:\n",
    "        return None # все элементы списка G --- вырожденные подстановки\n",
    "    L=[]\n",
    "    for g in G:\n",
    "        L=L+g.operands()\n",
    "    return integrate_by_subs(f,x,G=L)"
   ]
  },
  {
   "cell_type": "markdown",
   "id": "db7e7ff1",
   "metadata": {},
   "source": [
    "Пояснение. У функции два обязательных аргумента и один --- список подстановок $G$ \"--- необязательный. Прежде всего функция пытается взять интеграл по таблице. Если это не получается и список подстановок $G$ пуст, то он заполняется операндами подынтегральной функции. Затем для каждого операнда $g$ из списка $G$ проверяется, не дает ли он вырожденную подстановку $x=$const или тривиальную подстановку $x=u$. Такие подстановки отбрасываются. Если других нет, то возвращается None. В противном случае вычисляется $h(u)$ и, если такой интеграл есть в таблице, функция возвращает первообразную. Если по таблице не удалось взять ни один из интегралов, то список операндов $f$ заменяется на список операндов операндов выражений, входящих в $G$, и повторяется применение функции с этим списком подстановок. "
   ]
  },
  {
   "cell_type": "code",
   "execution_count": 48,
   "id": "cef0cb41",
   "metadata": {},
   "outputs": [
    {
     "name": "stdout",
     "output_type": "stream",
     "text": [
      "==subs.==\n",
      "_x == e^(x^2)\n",
      "1/2\n"
     ]
    },
    {
     "data": {
      "text/plain": [
       "1/2*e^(x^2)"
      ]
     },
     "execution_count": 48,
     "metadata": {},
     "output_type": "execute_result"
    }
   ],
   "source": [
    "integrate_by_subs(x*e^(x^2),x)"
   ]
  },
  {
   "cell_type": "code",
   "execution_count": 49,
   "id": "cbb22d6b",
   "metadata": {},
   "outputs": [
    {
     "name": "stdout",
     "output_type": "stream",
     "text": [
      "==subs.==\n",
      "_x == e^(pi*x^2)\n",
      "1/2/pi\n"
     ]
    },
    {
     "data": {
      "text/plain": [
       "1/2*e^(pi*x^2)/pi"
      ]
     },
     "execution_count": 49,
     "metadata": {},
     "output_type": "execute_result"
    }
   ],
   "source": [
    "integrate_by_subs(x*e^(pi*x^2),x)"
   ]
  },
  {
   "cell_type": "code",
   "execution_count": 50,
   "id": "826d0c57",
   "metadata": {},
   "outputs": [
    {
     "name": "stdout",
     "output_type": "stream",
     "text": [
      "==subs.==\n",
      "_x == (1/(x^2 + 1))\n",
      "-1/2*x^2 - 1/2\n",
      "==subs.==\n",
      "_x == x^2 + 1\n",
      "1/2/_x\n"
     ]
    },
    {
     "data": {
      "text/plain": [
       "1/2*log(abs(x^2 + 1))"
      ]
     },
     "execution_count": 50,
     "metadata": {},
     "output_type": "execute_result"
    }
   ],
   "source": [
    "integrate_by_subs(x/(1+x^2),x)"
   ]
  },
  {
   "cell_type": "markdown",
   "id": "c65836fa",
   "metadata": {},
   "source": [
    "Проблемы:\n",
    "* Никакой стратегии для вычисления интегралов не надо. Подстановка обычно одна единственная. \n",
    "* Если интеграл не берется, то это не значит, что его нельзя взять в элементарных функциях. Многие задачи требуют решения уранвения $u=g(x)$. \n",
    "* При реализации метода интегрирования по частям возникают бесконечные циклы. \n",
    "\n",
    "То, чему учат первокурсников, не является алгоритмами интегрирования. Это --- рецепты, которые можно реализовавывать по разному, но одинаково плохо. \n",
    "\n",
    "Ссылка:\n",
    "* Малых М.Д., Севастьянов А.Л., Севастьянов Л.А. О СИМВОЛЬНОМ ИНТЕГРИРОВАНИИ В КУРСЕ МАТЕМАТИЧЕСКОГО АНАЛИЗА // Компьютерные инструменты в образовании. 2019. С. 94-106"
   ]
  },
  {
   "cell_type": "markdown",
   "id": "900c5e8c",
   "metadata": {},
   "source": [
    "### Метод Лиувилля\n",
    "\n",
    "Теорема Лиувилля, 1833. Пусть $p,q$ -- многочлены. Интеграл \n",
    "$$\n",
    "\\int q(x)e^{p(x)} dx\n",
    "$$\n",
    "берется в элементарных функциях тогда и только тогда, когда существует многочлен $r$, такой, что\n",
    "$$\n",
    "\\int q(x)e^{p(x)} dx = r(x)e^{p(x)} + C.\n",
    "$$\n",
    "\n",
    "Дифференцируя и сокращая на $e^p$, имеем\n",
    "$$\n",
    "q = r' + rp', \n",
    "$$\n",
    "откуда\n",
    "$$\n",
    "\\deg(r)=\\deg(q)-\\deg(p)+1\n",
    "$$\n",
    "Выяснить, существует ли такой многочлен, можно по методу неопределенных коэффциентов. "
   ]
  },
  {
   "cell_type": "code",
   "execution_count": 51,
   "id": "85b11137",
   "metadata": {},
   "outputs": [],
   "source": [
    "def lintegral(f,x):\n",
    "    qq = SR.wild(0)\n",
    "    pp = SR.wild(1)\n",
    "    D=(f.factor()).match(qq*e^pp)\n",
    "    q=qq.subs(D)\n",
    "    p=pp.subs(D)\n",
    "    K=QQ[x]\n",
    "    dr=K(q).degree()-K(p).degree()+1\n",
    "    if dr<0:\n",
    "        return False\n",
    "    else:\n",
    "        c=var(['c'+str(i) for i in range(dr+1)])\n",
    "        r=sum([c[i]*x^i for  i in range(dr+1)])\n",
    "        eqs=QQ[c][x](q-diff(r,x)-r*diff(p,x)).coefficients()\n",
    "        teqs=triangulation([QQ[c](eq) for eq in eqs])\n",
    "        if len(teqs)==dr+1:\n",
    "            D=tsolve(teqs)\n",
    "            return r.subs(D)*e^p\n",
    "        else:\n",
    "            return False "
   ]
  },
  {
   "cell_type": "code",
   "execution_count": 55,
   "id": "b885bef8",
   "metadata": {},
   "outputs": [
    {
     "data": {
      "text/plain": [
       "(x^5 - 5*x^4 + 20*x^3 - 60*x^2 + 120*x - 120)*e^x"
      ]
     },
     "execution_count": 55,
     "metadata": {},
     "output_type": "execute_result"
    }
   ],
   "source": [
    "load('gauss.sage')\n",
    "lintegral(x^5*e^(x),x)"
   ]
  },
  {
   "cell_type": "code",
   "execution_count": 56,
   "id": "62ab1c06",
   "metadata": {},
   "outputs": [
    {
     "data": {
      "text/plain": [
       "False"
      ]
     },
     "execution_count": 56,
     "metadata": {},
     "output_type": "execute_result"
    }
   ],
   "source": [
    "lintegral(x*e^(x^3),x)"
   ]
  },
  {
   "cell_type": "code",
   "execution_count": 57,
   "id": "a4b192a6",
   "metadata": {},
   "outputs": [
    {
     "data": {
      "text/plain": [
       "1/3*e^(x^3)"
      ]
     },
     "execution_count": 57,
     "metadata": {},
     "output_type": "execute_result"
    }
   ],
   "source": [
    "lintegral(x^2*e^(x^3),x)"
   ]
  },
  {
   "cell_type": "markdown",
   "id": "8fbac6d8",
   "metadata": {},
   "source": [
    "Идея доказательства теоремы Лиувилля: первообразная --- аддитивная функция константы. \n",
    "\n",
    "Пусть \n",
    "$$\n",
    "\\int q(x)e^{p(x)} dx = F(x, e^p, e^r),\n",
    "$$\n",
    "тогда\n",
    "$$\n",
    "\\int q(x)e^{p(x)} dx = F(x, e^p, Сe^r),\n",
    "$$\n",
    "но это невозможно. Пусть \n",
    "$$\n",
    "\\int q(x)e^{p(x)} dx = F(x, e^p, \\ln r),\n",
    "$$\n",
    "тогда\n",
    "$$\n",
    "\\int q(x)e^{p(x)} dx = F(x, e^p, \\ln r + С),\n",
    "$$\n",
    "но тогда \n",
    "$$\n",
    "\\int q(x)e^{p(x)} dx = h(x, e^p) + A\\ln r(x, e^p),\n",
    "$$\n",
    "Но тогда\n",
    "$$\n",
    "\\int q(x)Ce^{p(x)} dx = h(x, Ce^p) + A\\ln r(x, Ce^p).\n",
    "$$\n",
    "Это возможно лишь тогда, когда\n",
    "$$\n",
    "\\int q(x)Ce^{p(x)} dx = h(x)e^p.\n",
    "$$\n",
    "\n",
    "Ссылки:\n",
    "* Liouville J. Mémoire sur l'intégration d'une classe de fonctions transcendantes // Crelle's Journal, Bd. 13, pp. 93 - 118\n",
    "* Manuel Bronstein. Symbolic Integration I. Transcendental Functions. Springer-Verlag Berlin Heidelberg, 2005\n",
    "* Павлов Д.А. Символьное интегрирование. // Компьютреные инструменты в образовании. № 2. 2010. "
   ]
  },
  {
   "cell_type": "markdown",
   "id": "896ee83f",
   "metadata": {},
   "source": [
    "### Заключение\n",
    "\n",
    "* Современные интеграторы основаны на методе Лиувилля, методе, который никогда не будут использовать люди, только компьютер.\n",
    "* Ни один интегратор не дает гарантий, что невзятый интеграл не берется. \n",
    "* Имеется огромное слепое пятно --- интегрирование алгебарических функций. \n",
    "\n",
    "Проблема в теореме Абеля: $(x_1,y_1), \\dots, (x_n, y_n)$ и $(x_1',y_1'), \\dots, (x_n', y_n')$  --- нули и полюса радикала некоторой рациональной функции на кривой\n",
    "$$\n",
    "f(x,y)=0\n",
    "$$\n",
    "тогда и только тогда, когда\n",
    "$$\n",
    "\\sum \\limits_{i=1}^n \\int \\limits_{(x_i,y_i)}^{(x_i',y_i')} H_j(xy)dx = \\frac{\\omega_j}{k}, \\quad j=1,\\dots, p.\n",
    "$$\n",
    "При произвольном $k$ их оказывается слишком много!\n",
    "\n",
    "Ссылка:\n",
    "* Malykh, M.D., Sevastianov, L.A., Yu, Y. On symbolic integration of algebraic functions // Journal of Symbolic Computation Volume 104, 1 May 2021, Pages 563-579. https://doi.org/10.1016/j.jsc.2020.09.002\n",
    "\n",
    "\n",
    "\n",
    "\n"
   ]
  },
  {
   "cell_type": "code",
   "execution_count": null,
   "id": "9ed8134e",
   "metadata": {},
   "outputs": [],
   "source": []
  }
 ],
 "metadata": {
  "kernelspec": {
   "display_name": "SageMath 9.6",
   "language": "sage",
   "name": "sagemath"
  },
  "language_info": {
   "codemirror_mode": {
    "name": "ipython",
    "version": 3
   },
   "file_extension": ".py",
   "mimetype": "text/x-python",
   "name": "python",
   "nbconvert_exporter": "python",
   "pygments_lexer": "ipython3",
   "version": "3.11.6"
  }
 },
 "nbformat": 4,
 "nbformat_minor": 5
}
